{
 "cells": [
  {
   "cell_type": "code",
   "execution_count": 1,
   "metadata": {},
   "outputs": [],
   "source": [
    "import socket\n",
    "b=11"
   ]
  },
  {
   "cell_type": "code",
   "execution_count": 2,
   "metadata": {},
   "outputs": [
    {
     "name": "stdout",
     "output_type": "stream",
     "text": [
      "The value of p is  6\n",
      "The value of q is  5\n",
      "The value of B is  5\n",
      "The value of A is  5\n",
      "The value of shared key  is  5\n"
     ]
    }
   ],
   "source": [
    "s=socket.socket()\n",
    "\n",
    "s.connect(('127.0.0.1',4210))\n",
    "\n",
    "p=int((s.recv(1024)))\n",
    "q=int((s.recv(1024)))\n",
    "print(\"The value of p is \",p)\n",
    "\n",
    "print(\"The value of q is \",q)\n",
    "\n",
    "B=(q**b)%p\n",
    "s.send(str(B).encode())\n",
    "\n",
    "print(\"The value of B is \",B)\n",
    "\n",
    "A=int(s.recv(1024))\n",
    "\n",
    "print(\"The value of A is \",A)\n",
    "\n",
    "k2=(A**b)%p\n",
    "\n",
    "print(\"The value of shared key  is \",k2)\n",
    "\n",
    "\n",
    "s.close()\n"
   ]
  },
  {
   "cell_type": "code",
   "execution_count": null,
   "metadata": {},
   "outputs": [],
   "source": []
  },
  {
   "cell_type": "code",
   "execution_count": null,
   "metadata": {},
   "outputs": [],
   "source": []
  }
 ],
 "metadata": {
  "kernelspec": {
   "display_name": "Python 3",
   "language": "python",
   "name": "python3"
  },
  "language_info": {
   "codemirror_mode": {
    "name": "ipython",
    "version": 3
   },
   "file_extension": ".py",
   "mimetype": "text/x-python",
   "name": "python",
   "nbconvert_exporter": "python",
   "pygments_lexer": "ipython3",
   "version": "3.7.0"
  }
 },
 "nbformat": 4,
 "nbformat_minor": 2
}
