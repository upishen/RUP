{
 "cells": [
  {
   "cell_type": "code",
   "execution_count": 2,
   "metadata": {},
   "outputs": [],
   "source": [
    "import socket"
   ]
  },
  {
   "cell_type": "code",
   "execution_count": 3,
   "metadata": {},
   "outputs": [],
   "source": [
    "p=6 ##intialize p,q,a\n",
    "q=5\n",
    "a=7"
   ]
  },
  {
   "cell_type": "code",
   "execution_count": 4,
   "metadata": {},
   "outputs": [
    {
     "name": "stdout",
     "output_type": "stream",
     "text": [
      "<socket.socket fd=1084, family=AddressFamily.AF_INET, type=SocketKind.SOCK_STREAM, proto=0, laddr=('127.0.0.1', 4210), raddr=('127.0.0.1', 63097)>\n",
      "The value of B is  5\n",
      "The value of A is  5\n",
      "The value of shared key is  5\n"
     ]
    }
   ],
   "source": [
    "s=socket.socket()\n",
    "\n",
    "s.bind(('',4210))\n",
    "\n",
    "s.listen(6)\n",
    "\n",
    "conn,addr=s.accept()\n",
    "print(conn)\n",
    "\n",
    "\n",
    "conn.send((str(p).encode()))\n",
    "conn.send((str(q).encode()))\n",
    "\n",
    "B=int(conn.recv(1024))\n",
    "\n",
    "print(\"The value of B is \",B)\n",
    "\n",
    "A=(q**a)%p\n",
    "conn.send(str(A).encode())\n",
    "\n",
    "print(\"The value of A is \",A)\n",
    "\n",
    "k1=(B**a)%p\n",
    "\n",
    "print(\"The value of shared key is \",k1)\n",
    "\n",
    "\n",
    "conn.close()\n",
    "\n",
    "s.close()\n"
   ]
  },
  {
   "cell_type": "code",
   "execution_count": null,
   "metadata": {},
   "outputs": [],
   "source": []
  },
  {
   "cell_type": "code",
   "execution_count": null,
   "metadata": {},
   "outputs": [],
   "source": []
  }
 ],
 "metadata": {
  "kernelspec": {
   "display_name": "Python 3",
   "language": "python",
   "name": "python3"
  },
  "language_info": {
   "codemirror_mode": {
    "name": "ipython",
    "version": 3
   },
   "file_extension": ".py",
   "mimetype": "text/x-python",
   "name": "python",
   "nbconvert_exporter": "python",
   "pygments_lexer": "ipython3",
   "version": "3.7.0"
  }
 },
 "nbformat": 4,
 "nbformat_minor": 2
}
