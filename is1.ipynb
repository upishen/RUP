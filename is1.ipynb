{
 "cells": [
  {
   "cell_type": "code",
   "execution_count": 26,
   "metadata": {},
   "outputs": [
    {
     "name": "stdout",
     "output_type": "stream",
     "text": [
      "Enter 10 bit key\n",
      "1001100110\n"
     ]
    }
   ],
   "source": [
    "print(\"Enter 10 bit key\")   ## intial key\n",
    "key=input()\n"
   ]
  },
  {
   "cell_type": "code",
   "execution_count": 27,
   "metadata": {},
   "outputs": [
    {
     "name": "stdout",
     "output_type": "stream",
     "text": [
      "Enter 8 bit text\n",
      "10011001\n"
     ]
    }
   ],
   "source": [
    "print(\"Enter 8 bit text\")\n",
    "text=input()"
   ]
  },
  {
   "cell_type": "code",
   "execution_count": 28,
   "metadata": {
    "collapsed": true
   },
   "outputs": [],
   "source": [
    "p10=[3,5,2,7,4,10,1,9,8,6]\n",
    "p8=[6,3,7,4,8,5,10,9]\n",
    "p4=[2,4,3,1]\n",
    "ip=[2,6,3,1,4,8,5,7]\n",
    "iip=[4,1,3,5,7,2,8,6]\n",
    "e=[4,1,2,3,2,3,4,1]\n",
    "s0=[\n",
    "    [1,0,3,2],\n",
    "    [3,2,1,0],\n",
    "    [0,2,1,3],\n",
    "    [3,1,3,2]\n",
    "]\n",
    "s1=[\n",
    "        [0, 1, 2, 3],\n",
    "        [2, 0, 1, 3],\n",
    "        [3, 0, 1, 0],\n",
    "        [2, 1, 0, 3]\n",
    "]"
   ]
  },
  {
   "cell_type": "code",
   "execution_count": 29,
   "metadata": {
    "collapsed": true
   },
   "outputs": [],
   "source": [
    "def permute(p,l):\n",
    "    t=\"\"\n",
    "    for i in p:\n",
    "        t=t+l[i-1]\n",
    "        \n",
    "    return t\n",
    "    "
   ]
  },
  {
   "cell_type": "code",
   "execution_count": 30,
   "metadata": {
    "collapsed": true
   },
   "outputs": [],
   "source": [
    "def firstkey(left,right):\n",
    "    temp1=left[1:]\n",
    "    temp2=right[1:]\n",
    "    temp1=temp1+left[:1]\n",
    "    temp2=temp2+right[:1]\n",
    "    temp=temp1+temp2\n",
    "    return permute(p8,temp)\n",
    "    \n",
    "    "
   ]
  },
  {
   "cell_type": "code",
   "execution_count": 31,
   "metadata": {
    "collapsed": true
   },
   "outputs": [],
   "source": [
    "def secondkey(left,right):\n",
    "    temp1=left[3:]\n",
    "    temp2=right[3:]\n",
    "    temp1=temp1+left[:3]\n",
    "    temp2=temp2+right[:3]\n",
    "    temp=temp1+temp2\n",
    "    return permute(p8,temp)"
   ]
  },
  {
   "cell_type": "code",
   "execution_count": 32,
   "metadata": {
    "collapsed": true
   },
   "outputs": [],
   "source": [
    "def f(left,right,key):\n",
    "    temp=permute(e,right)\n",
    "    temp=bin(int(temp,2)^int(key,2))[2:].zfill(8)\n",
    "    temp1=temp[0:4]\n",
    "    temp2=temp[4:]\n",
    "    temp1=ss(temp1,s0)\n",
    "    temp2=ss(temp2,s1)\n",
    "    temp=temp1+temp2\n",
    "    fo=permute(p4,temp)\n",
    "    fo=bin(int(fo,2)^int(left,2))[2:].zfill(4)\n",
    "    return fo,right\n",
    "    \n",
    "    "
   ]
  },
  {
   "cell_type": "code",
   "execution_count": 33,
   "metadata": {
    "collapsed": true
   },
   "outputs": [],
   "source": [
    "def ss(input1, sbox):\n",
    "    row = int(input1[0] + input1[3], 2)\n",
    "    column = int(input1[1] + input1[2], 2)\n",
    "    return bin(sbox[row][column])[2:].zfill(4)"
   ]
  },
  {
   "cell_type": "code",
   "execution_count": 34,
   "metadata": {},
   "outputs": [
    {
     "name": "stdout",
     "output_type": "stream",
     "text": [
      "0100101110\n"
     ]
    }
   ],
   "source": [
    "permute10=permute(p10,key)\n",
    "print(permute10)  ##intial p10"
   ]
  },
  {
   "cell_type": "code",
   "execution_count": 35,
   "metadata": {},
   "outputs": [
    {
     "name": "stdout",
     "output_type": "stream",
     "text": [
      "01001 01110\n"
     ]
    }
   ],
   "source": [
    "left=permute10[0:5]\n",
    "right=permute10[5:]\n",
    "print(left,right)   ##left right of p10"
   ]
  },
  {
   "cell_type": "code",
   "execution_count": 36,
   "metadata": {},
   "outputs": [
    {
     "name": "stdout",
     "output_type": "stream",
     "text": [
      "The first round key is k1  10111000\n"
     ]
    }
   ],
   "source": [
    "k1=firstkey(left,right)   ##round1 key\n",
    "print(\"The first round key is k1 \",k1)"
   ]
  },
  {
   "cell_type": "code",
   "execution_count": 37,
   "metadata": {},
   "outputs": [
    {
     "name": "stdout",
     "output_type": "stream",
     "text": [
      "The second round key is k2  11100110\n"
     ]
    }
   ],
   "source": [
    "k2=secondkey(left,right)  ##round 2 key\n",
    "print(\"The second round key is k2 \",k2)"
   ]
  },
  {
   "cell_type": "code",
   "execution_count": 38,
   "metadata": {},
   "outputs": [
    {
     "name": "stdout",
     "output_type": "stream",
     "text": [
      "The initial text permute is  00011110\n"
     ]
    }
   ],
   "source": [
    "textpermute=permute(ip,text)\n",
    "print(\"The initial text permute is \",textpermute)"
   ]
  },
  {
   "cell_type": "code",
   "execution_count": 39,
   "metadata": {},
   "outputs": [
    {
     "name": "stdout",
     "output_type": "stream",
     "text": [
      "0001 1110\n"
     ]
    }
   ],
   "source": [
    "lefttext,righttext=textpermute[0:4],textpermute[4:]\n",
    "print(lefttext,righttext)\n"
   ]
  },
  {
   "cell_type": "code",
   "execution_count": 40,
   "metadata": {},
   "outputs": [
    {
     "name": "stdout",
     "output_type": "stream",
     "text": [
      "0101 1110\n"
     ]
    }
   ],
   "source": [
    "left,right=f(lefttext,righttext,k1)   ##first round\n",
    "print(left,right)\n"
   ]
  },
  {
   "cell_type": "code",
   "execution_count": 41,
   "metadata": {},
   "outputs": [
    {
     "name": "stdout",
     "output_type": "stream",
     "text": [
      "1000 0101\n"
     ]
    }
   ],
   "source": [
    "left,right=f(right,left,k2)  ##second round\n",
    "print(left,right)"
   ]
  },
  {
   "cell_type": "code",
   "execution_count": 42,
   "metadata": {},
   "outputs": [
    {
     "name": "stdout",
     "output_type": "stream",
     "text": [
      "The cipher text is  01000011\n"
     ]
    }
   ],
   "source": [
    "c=permute(iip,left+right)\n",
    "print(\"The cipher text is \",c)"
   ]
  },
  {
   "cell_type": "code",
   "execution_count": 18,
   "metadata": {
    "collapsed": true
   },
   "outputs": [],
   "source": [
    "###for decryption pass k2 for first round then k1 and input is above c cipher text for decryption\n",
    "\n"
   ]
  },
  {
   "cell_type": "code",
   "execution_count": null,
   "metadata": {
    "collapsed": true
   },
   "outputs": [],
   "source": []
  },
  {
   "cell_type": "code",
   "execution_count": null,
   "metadata": {
    "collapsed": true
   },
   "outputs": [],
   "source": []
  }
 ],
 "metadata": {
  "kernelspec": {
   "display_name": "Python 3",
   "language": "python",
   "name": "python3"
  },
  "language_info": {
   "codemirror_mode": {
    "name": "ipython",
    "version": 3
   },
   "file_extension": ".py",
   "mimetype": "text/x-python",
   "name": "python",
   "nbconvert_exporter": "python",
   "pygments_lexer": "ipython3",
   "version": "3.7.0"
  }
 },
 "nbformat": 4,
 "nbformat_minor": 2
}
