{
 "cells": [
  {
   "cell_type": "code",
   "execution_count": 1,
   "metadata": {},
   "outputs": [
    {
     "name": "stdout",
     "output_type": "stream",
     "text": [
      "Enter p\n",
      "29\n",
      "Enter q\n",
      "17\n",
      "Enter message\n",
      "66\n"
     ]
    }
   ],
   "source": [
    "print(\"Enter p\")\n",
    "p=int(input())\n",
    "print(\"Enter q\")\n",
    "q=int(input())\n",
    "print(\"Enter message\")\n",
    "m=int(input())\n"
   ]
  },
  {
   "cell_type": "code",
   "execution_count": 2,
   "metadata": {},
   "outputs": [
    {
     "name": "stdout",
     "output_type": "stream",
     "text": [
      "448 493\n"
     ]
    }
   ],
   "source": [
    "n=p*q\n",
    "phi=(p-1)*(q-1)\n",
    "print(phi,n)"
   ]
  },
  {
   "cell_type": "code",
   "execution_count": 3,
   "metadata": {
    "collapsed": true
   },
   "outputs": [],
   "source": [
    "import math\n",
    "import socket"
   ]
  },
  {
   "cell_type": "code",
   "execution_count": 4,
   "metadata": {
    "collapsed": true
   },
   "outputs": [],
   "source": [
    "e=2\n",
    "while(e<phi):\n",
    "    if(math.gcd(e,phi)==1):\n",
    "        break\n",
    "    \n",
    "    else:\n",
    "        e=e+1\n",
    "    \n",
    "\n"
   ]
  },
  {
   "cell_type": "code",
   "execution_count": 5,
   "metadata": {},
   "outputs": [
    {
     "name": "stdout",
     "output_type": "stream",
     "text": [
      "The public key e is  3\n"
     ]
    }
   ],
   "source": [
    "print(\"The public key e is \",e)"
   ]
  },
  {
   "cell_type": "code",
   "execution_count": 7,
   "metadata": {},
   "outputs": [
    {
     "name": "stdout",
     "output_type": "stream",
     "text": [
      "The value of n is  493\n",
      "The value of phi is  448\n",
      "The value of public key e is  3\n",
      "The value of cipher text c is  77\n",
      "The value of orignial  message  text m is  66\n"
     ]
    }
   ],
   "source": [
    "s=socket.socket()\n",
    "\n",
    "s.bind(('',4210))\n",
    "\n",
    "s.listen(5)\n",
    "\n",
    "conn,addr=s.accept()\n",
    "\n",
    "conn.send((str(e).encode()))\n",
    "conn.send((str(phi).encode()))\n",
    "conn.send((str(n).encode()))\n",
    "\n",
    "\n",
    "\n",
    "c=(m**e)%n\n",
    "\n",
    "conn.send((str(c).encode()))\n",
    "\n",
    "conn.close()\n",
    "\n",
    "\n",
    "print(\"The value of n is \",n)\n",
    "print(\"The value of phi is \",phi)\n",
    "print(\"The value of public key e is \",e)\n",
    "print(\"The value of cipher text c is \",c)\n",
    "print(\"The value of orignial  message  text m is \",m)\n",
    "\n",
    "s.close()\n",
    "\n",
    "\n"
   ]
  },
  {
   "cell_type": "code",
   "execution_count": null,
   "metadata": {
    "collapsed": true
   },
   "outputs": [],
   "source": []
  }
 ],
 "metadata": {
  "kernelspec": {
   "display_name": "Python 3",
   "language": "python",
   "name": "python3"
  },
  "language_info": {
   "codemirror_mode": {
    "name": "ipython",
    "version": 3
   },
   "file_extension": ".py",
   "mimetype": "text/x-python",
   "name": "python",
   "nbconvert_exporter": "python",
   "pygments_lexer": "ipython3",
   "version": "3.7.0"
  }
 },
 "nbformat": 4,
 "nbformat_minor": 2
}
