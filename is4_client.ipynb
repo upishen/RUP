{
 "cells": [
  {
   "cell_type": "code",
   "execution_count": 1,
   "metadata": {
    "collapsed": true
   },
   "outputs": [],
   "source": [
    "\n",
    "import math\n",
    "import socket"
   ]
  },
  {
   "cell_type": "code",
   "execution_count": 4,
   "metadata": {},
   "outputs": [
    {
     "name": "stdout",
     "output_type": "stream",
     "text": [
      "The value of n is  493\n",
      "The value of phi is  448\n",
      "The value of public key e is  3\n",
      "The value of private key d is  299\n",
      "The value of cipher text c is  77\n",
      "The value of decoded message  text m is  66\n"
     ]
    }
   ],
   "source": [
    "s=socket.socket()\n",
    "\n",
    "s.connect(('127.0.0.1',4210))\n",
    "\n",
    "e=int(s.recv(1024))\n",
    "phi=int(s.recv(1024))\n",
    "n=int(s.recv(1024))\n",
    "\n",
    "\n",
    "\n",
    "print(\"The value of n is \",n)\n",
    "print(\"The value of phi is \",phi)\n",
    "print(\"The value of public key e is \",e)\n",
    "\n",
    "\n",
    "\n",
    "i=1\n",
    "d=(i*phi+1)/e\n",
    "\n",
    "while(d-math.floor(d)!=0):\n",
    "    i=i+1\n",
    "    d=(i*phi+1)/e\n",
    "\n",
    "d=int(d)    \n",
    "print(\"The value of private key d is \",d)\n",
    "\n",
    "\n",
    "c=int(s.recv(1024))\n",
    "print(\"The value of cipher text c is \",c)\n",
    "\n",
    "\n",
    "\n",
    "m=(c**d)%n\n",
    "\n",
    "print(\"The value of decoded message  text m is \",m)\n",
    "\n",
    "s.close()\n",
    "    \n",
    "    \n"
   ]
  },
  {
   "cell_type": "code",
   "execution_count": null,
   "metadata": {},
   "outputs": [],
   "source": [
    "\n",
    "\n",
    "\n",
    "\n",
    "\n"
   ]
  },
  {
   "cell_type": "code",
   "execution_count": null,
   "metadata": {
    "collapsed": true
   },
   "outputs": [],
   "source": []
  }
 ],
 "metadata": {
  "kernelspec": {
   "display_name": "Python 3",
   "language": "python",
   "name": "python3"
  },
  "language_info": {
   "codemirror_mode": {
    "name": "ipython",
    "version": 3
   },
   "file_extension": ".py",
   "mimetype": "text/x-python",
   "name": "python",
   "nbconvert_exporter": "python",
   "pygments_lexer": "ipython3",
   "version": "3.7.0"
  }
 },
 "nbformat": 4,
 "nbformat_minor": 2
}
