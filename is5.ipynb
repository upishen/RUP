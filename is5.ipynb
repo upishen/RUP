{
 "cells": [
  {
   "cell_type": "code",
   "execution_count": 23,
   "metadata": {},
   "outputs": [
    {
     "name": "stdout",
     "output_type": "stream",
     "text": [
      "Enter a\n",
      "78\n",
      "Enter b\n",
      "34\n",
      "Enter G in x and y\n",
      "56\n",
      "99\n"
     ]
    }
   ],
   "source": [
    "import numpy as np\n",
    "\n",
    "print(\"Enter a\")\n",
    "a=int(input())\n",
    "\n",
    "print(\"Enter b\")\n",
    "b=int(input())\n",
    "\n",
    "print(\"Enter G in x and y\")\n",
    "G=np.array([int(input()),int(input())])\n"
   ]
  },
  {
   "cell_type": "code",
   "execution_count": 24,
   "metadata": {},
   "outputs": [
    {
     "name": "stdout",
     "output_type": "stream",
     "text": [
      "The value of A is  [4368 7722]\n",
      "The value of B is  [1904 3366]\n"
     ]
    }
   ],
   "source": [
    "A=a*G\n",
    "print(\"The value of A is \",A)\n",
    "\n",
    "B=b*G\n",
    "print(\"The value of B is \",B)\n",
    "\n",
    "\n"
   ]
  },
  {
   "cell_type": "code",
   "execution_count": 25,
   "metadata": {},
   "outputs": [
    {
     "name": "stdout",
     "output_type": "stream",
     "text": [
      "The value of key1 is  [148512 262548]\n",
      "The value of key2 is  [148512 262548]\n"
     ]
    }
   ],
   "source": [
    "key1=B*a\n",
    "key2=A*b\n",
    "print(\"The value of key1 is \",key1)\n",
    "print(\"The value of key2 is \",key2)\n"
   ]
  },
  {
   "cell_type": "code",
   "execution_count": 26,
   "metadata": {
    "collapsed": true
   },
   "outputs": [],
   "source": [
    "key=key1=key2"
   ]
  },
  {
   "cell_type": "code",
   "execution_count": 27,
   "metadata": {},
   "outputs": [
    {
     "name": "stdout",
     "output_type": "stream",
     "text": [
      "Enter message in x and y format\n",
      "99\n",
      "45\n"
     ]
    }
   ],
   "source": [
    "print(\"Enter message in x and y format\")\n",
    "m=np.array([int(input()),int(input())])"
   ]
  },
  {
   "cell_type": "code",
   "execution_count": 28,
   "metadata": {},
   "outputs": [
    {
     "name": "stdout",
     "output_type": "stream",
     "text": [
      "The value of c1 is  [ 8316672 25992252]\n",
      "The value of c2 is  [282766947 883736613]\n"
     ]
    }
   ],
   "source": [
    "c1=key*G\n",
    "print(\"The value of c1 is \",c1)\n",
    "\n",
    "c2=m+key*B\n",
    "print(\"The value of c2 is \",c2)"
   ]
  },
  {
   "cell_type": "code",
   "execution_count": 29,
   "metadata": {},
   "outputs": [
    {
     "name": "stdout",
     "output_type": "stream",
     "text": [
      "The value of decrypted message is  [99 45]\n",
      "The value of original message is  [99 45]\n"
     ]
    }
   ],
   "source": [
    "decrypt1=c1*b   ##c1 and c2 are sent to receiver .He has b\n",
    "finaldecrypt=c2-decrypt1\n",
    "\n",
    "print(\"The value of decrypted message is \",finaldecrypt)\n",
    "print(\"The value of original message is \",m)\n"
   ]
  },
  {
   "cell_type": "code",
   "execution_count": null,
   "metadata": {
    "collapsed": true
   },
   "outputs": [],
   "source": []
  }
 ],
 "metadata": {
  "kernelspec": {
   "display_name": "Python 3",
   "language": "python",
   "name": "python3"
  },
  "language_info": {
   "codemirror_mode": {
    "name": "ipython",
    "version": 3
   },
   "file_extension": ".py",
   "mimetype": "text/x-python",
   "name": "python",
   "nbconvert_exporter": "python",
   "pygments_lexer": "ipython3",
   "version": "3.7.0"
  }
 },
 "nbformat": 4,
 "nbformat_minor": 2
}
